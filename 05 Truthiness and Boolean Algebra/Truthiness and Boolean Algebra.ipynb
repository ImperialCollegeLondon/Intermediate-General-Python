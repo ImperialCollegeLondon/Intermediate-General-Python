{
 "cells": [
  {
   "cell_type": "markdown",
   "metadata": {},
   "source": [
    "# Truthiness and Boolean Algebra\n",
    "\n",
    "## Truthiness\n",
    "\n",
    "### Functionality\n",
    "\n",
    "You should already be familair with how values of the ```bool``` type can be used to control the flow of a program within conditionals:"
   ]
  },
  {
   "cell_type": "code",
   "execution_count": 1,
   "metadata": {},
   "outputs": [
    {
     "name": "stdout",
     "output_type": "stream",
     "text": [
      "a\n"
     ]
    }
   ],
   "source": [
    "a = True\n",
    "\n",
    "# We can examine a bool value stored in a variable\n",
    "if a:\n",
    "    print(\"a\")\n",
    "\n",
    "# Many logical operators return a bool value that can be used\n",
    "if 3 > 5:\n",
    "    print(\"Larger\")"
   ]
  },
  {
   "cell_type": "markdown",
   "metadata": {},
   "source": [
    "However, other variable types can also be used to control a conditional:"
   ]
  },
  {
   "cell_type": "code",
   "execution_count": 2,
   "metadata": {},
   "outputs": [
    {
     "name": "stdout",
     "output_type": "stream",
     "text": [
      "1\n"
     ]
    }
   ],
   "source": [
    "# Define a function which will conditionally print the value of a\n",
    "def conditional_printer(a):\n",
    "    if a:\n",
    "        print(a)\n",
    "\n",
    "# Call the function wit the value 1\n",
    "conditional_printer(1)\n",
    "\n",
    "# Call the function with the value 0\n",
    "conditional_printer(0)"
   ]
  },
  {
   "cell_type": "markdown",
   "metadata": {},
   "source": [
    "In the above example, the interior of the if-statement was executed when ```a``` had the value ```1```, but not when it had the value ```0```. So what's going on here? \n",
    "\n",
    "The answer is that every value in Python is considered either \"truthy\" or \"falsy\". When evaluated in a conditional such as an if-statement, the truthiness of a value will be determined. If the value is truthy, it will be as though the value was a ```bool``` with the value of ```True```. If the value is falsy, it will be as though the value was a ```bool``` with the value of ```False```.\n",
    "\n",
    "Most values in Python are consider ```truthy```, unless they are empty, null or zero in some way. Some common examples of falsy values include:\n",
    "\n",
    "* ```False```\n",
    "* ```None```\n",
    "* Numbers equivalent to zero, including:\n",
    "    - ```0```\n",
    "    - ```0.0```\n",
    "* Empty sequences and collections, including:\n",
    "    - Empty string\n",
    "    - Empty list\n",
    "    - Empty tuple\n",
    "    - Empty dictionary\n",
    "    - Empty set\n",
    "\n",
    "You'll learn more about tuples, dictionaries and sets later in this course.\n",
    "\n",
    "So, in the example above, when ```a``` had the value ```1``` it was truthy and so the code in the if-statement executed. When it had the value ```0``` it was falsy and so the code in the if-statement didn't execute.\n",
    "\n",
    "You can also check the truthiness of a value using the ```bool``` function, which returns a ```bool``` with a value equivalent to the truthiness value of the value passed to it:"
   ]
  },
  {
   "cell_type": "code",
   "execution_count": 3,
   "metadata": {},
   "outputs": [
    {
     "name": "stdout",
     "output_type": "stream",
     "text": [
      "True\n",
      "False\n"
     ]
    }
   ],
   "source": [
    "print(bool(1))\n",
    "print(bool(0))"
   ]
  },
  {
   "cell_type": "markdown",
   "metadata": {},
   "source": [
    "### Why is this Useful?\n",
    "\n",
    "This is useful because it allows us to more compact code which is quicker to evaluate. Very often, values of zero or an empty collection of data represent a lack of something having happened and being able to quickly deal with those cases is efficient and useful. Imagine we're writing a function that prints a warning if the number of errors in an exam is more than zero. We could write a version where we evaluate a ```bool``` value directly using the greater-than operator:"
   ]
  },
  {
   "cell_type": "code",
   "execution_count": 4,
   "metadata": {},
   "outputs": [
    {
     "name": "stdout",
     "output_type": "stream",
     "text": [
      "0 Errors\n",
      "1 Error\n",
      "You should fix those errors!\n"
     ]
    }
   ],
   "source": [
    "def check_errors(n_error):\n",
    "    if n_error > 0:\n",
    "        print(\"You should fix those errors!\")\n",
    "\n",
    "print(\"0 Errors\")\n",
    "check_errors(0)\n",
    "print(\"1 Error\")\n",
    "check_errors(1)"
   ]
  },
  {
   "cell_type": "markdown",
   "metadata": {},
   "source": [
    "This has clearly worked, but we had to explictly perform a logical operation with the ```>``` operator and then Python had to check if the resulting value is truthy. Alternatively, we can use the truthiness of ```n_error``` directly:"
   ]
  },
  {
   "cell_type": "code",
   "execution_count": 5,
   "metadata": {},
   "outputs": [
    {
     "name": "stdout",
     "output_type": "stream",
     "text": [
      "0 Errors\n",
      "1 Error\n",
      "You should fix those errors!\n"
     ]
    }
   ],
   "source": [
    "def check_errors(n_error):\n",
    "    if n_error:\n",
    "        print(\"You should fix those errors!\")\n",
    "\n",
    "print(\"0 Errors\")\n",
    "check_errors(0)\n",
    "print(\"1 Error\")\n",
    "check_errors(1)"
   ]
  },
  {
   "cell_type": "markdown",
   "metadata": {},
   "source": [
    "This result is slightly more compact, so it takes less time to write. It also takes less time to execute as Python only needs to evaluate the truthiness of ```n_error```.\n",
    "\n",
    "As another example, imagine writing a piece of code to calculate the sum of a series of data stored in a list. However, we know the data should not be empty and, if it is, something has gone wrong and we want to raise a ```ValueError```. We can do this by explicitly checking the length of the list:"
   ]
  },
  {
   "cell_type": "code",
   "execution_count": 6,
   "metadata": {},
   "outputs": [
    {
     "name": "stdout",
     "output_type": "stream",
     "text": [
      "Non-empty data\n",
      "30\n",
      "0\n",
      "Empty Data\n"
     ]
    },
    {
     "ename": "ValueError",
     "evalue": "The data should not be empty!",
     "output_type": "error",
     "traceback": [
      "\u001b[1;31m---------------------------------------------------------------------------\u001b[0m",
      "\u001b[1;31mValueError\u001b[0m                                Traceback (most recent call last)",
      "\u001b[1;32m~\\AppData\\Local\\Temp/ipykernel_20032/3175261238.py\u001b[0m in \u001b[0;36m<module>\u001b[1;34m\u001b[0m\n\u001b[0;32m      9\u001b[0m \u001b[0mprint\u001b[0m\u001b[1;33m(\u001b[0m\u001b[0msum_data\u001b[0m\u001b[1;33m(\u001b[0m\u001b[1;33m[\u001b[0m\u001b[1;36m0\u001b[0m\u001b[1;33m,\u001b[0m \u001b[1;36m0\u001b[0m\u001b[1;33m,\u001b[0m \u001b[1;36m0\u001b[0m\u001b[1;33m]\u001b[0m\u001b[1;33m)\u001b[0m\u001b[1;33m)\u001b[0m\u001b[1;33m\u001b[0m\u001b[1;33m\u001b[0m\u001b[0m\n\u001b[0;32m     10\u001b[0m \u001b[0mprint\u001b[0m\u001b[1;33m(\u001b[0m\u001b[1;34m\"Empty Data\"\u001b[0m\u001b[1;33m)\u001b[0m\u001b[1;33m\u001b[0m\u001b[1;33m\u001b[0m\u001b[0m\n\u001b[1;32m---> 11\u001b[1;33m \u001b[0mprint\u001b[0m\u001b[1;33m(\u001b[0m\u001b[0msum_data\u001b[0m\u001b[1;33m(\u001b[0m\u001b[1;33m[\u001b[0m\u001b[1;33m]\u001b[0m\u001b[1;33m)\u001b[0m\u001b[1;33m)\u001b[0m\u001b[1;33m\u001b[0m\u001b[1;33m\u001b[0m\u001b[0m\n\u001b[0m",
      "\u001b[1;32m~\\AppData\\Local\\Temp/ipykernel_20032/3175261238.py\u001b[0m in \u001b[0;36msum_data\u001b[1;34m(data)\u001b[0m\n\u001b[0;32m      1\u001b[0m \u001b[1;32mdef\u001b[0m \u001b[0msum_data\u001b[0m\u001b[1;33m(\u001b[0m\u001b[0mdata\u001b[0m\u001b[1;33m)\u001b[0m\u001b[1;33m:\u001b[0m\u001b[1;33m\u001b[0m\u001b[1;33m\u001b[0m\u001b[0m\n\u001b[0;32m      2\u001b[0m     \u001b[1;32mif\u001b[0m \u001b[0mlen\u001b[0m\u001b[1;33m(\u001b[0m\u001b[0mdata\u001b[0m\u001b[1;33m)\u001b[0m \u001b[1;33m==\u001b[0m \u001b[1;36m0\u001b[0m\u001b[1;33m:\u001b[0m\u001b[1;33m\u001b[0m\u001b[1;33m\u001b[0m\u001b[0m\n\u001b[1;32m----> 3\u001b[1;33m         \u001b[1;32mraise\u001b[0m \u001b[0mValueError\u001b[0m\u001b[1;33m(\u001b[0m\u001b[1;34m\"The data should not be empty!\"\u001b[0m\u001b[1;33m)\u001b[0m\u001b[1;33m\u001b[0m\u001b[1;33m\u001b[0m\u001b[0m\n\u001b[0m\u001b[0;32m      4\u001b[0m     \u001b[1;32melse\u001b[0m\u001b[1;33m:\u001b[0m\u001b[1;33m\u001b[0m\u001b[1;33m\u001b[0m\u001b[0m\n\u001b[0;32m      5\u001b[0m         \u001b[1;32mreturn\u001b[0m\u001b[1;33m(\u001b[0m\u001b[0msum\u001b[0m\u001b[1;33m(\u001b[0m\u001b[0mdata\u001b[0m\u001b[1;33m)\u001b[0m\u001b[1;33m)\u001b[0m\u001b[1;33m\u001b[0m\u001b[1;33m\u001b[0m\u001b[0m\n",
      "\u001b[1;31mValueError\u001b[0m: The data should not be empty!"
     ]
    }
   ],
   "source": [
    "def sum_data(data):\n",
    "    if len(data) == 0:\n",
    "        raise ValueError(\"The data should not be empty!\")\n",
    "    else:\n",
    "        return(sum(data))\n",
    "\n",
    "print(\"Non-empty data\")\n",
    "print(sum_data([10, 20]))\n",
    "print(sum_data([0, 0, 0]))\n",
    "print(\"Empty Data\")\n",
    "print(sum_data([]))\n"
   ]
  },
  {
   "cell_type": "markdown",
   "metadata": {},
   "source": [
    "Or we can evaluate the truthiness of data directly:"
   ]
  },
  {
   "cell_type": "code",
   "execution_count": 7,
   "metadata": {},
   "outputs": [
    {
     "name": "stdout",
     "output_type": "stream",
     "text": [
      "Non-empty data\n",
      "30\n",
      "0\n",
      "Empty Data\n"
     ]
    },
    {
     "ename": "ValueError",
     "evalue": "The data should not be empty!",
     "output_type": "error",
     "traceback": [
      "\u001b[1;31m---------------------------------------------------------------------------\u001b[0m",
      "\u001b[1;31mValueError\u001b[0m                                Traceback (most recent call last)",
      "\u001b[1;32m~\\AppData\\Local\\Temp/ipykernel_20032/1370969874.py\u001b[0m in \u001b[0;36m<module>\u001b[1;34m\u001b[0m\n\u001b[0;32m      9\u001b[0m \u001b[0mprint\u001b[0m\u001b[1;33m(\u001b[0m\u001b[0msum_data\u001b[0m\u001b[1;33m(\u001b[0m\u001b[1;33m[\u001b[0m\u001b[1;36m0\u001b[0m\u001b[1;33m,\u001b[0m \u001b[1;36m0\u001b[0m\u001b[1;33m,\u001b[0m \u001b[1;36m0\u001b[0m\u001b[1;33m]\u001b[0m\u001b[1;33m)\u001b[0m\u001b[1;33m)\u001b[0m \u001b[1;31m# Note that collections where all values are zero are not empty and so are still truthy\u001b[0m\u001b[1;33m\u001b[0m\u001b[1;33m\u001b[0m\u001b[0m\n\u001b[0;32m     10\u001b[0m \u001b[0mprint\u001b[0m\u001b[1;33m(\u001b[0m\u001b[1;34m\"Empty Data\"\u001b[0m\u001b[1;33m)\u001b[0m\u001b[1;33m\u001b[0m\u001b[1;33m\u001b[0m\u001b[0m\n\u001b[1;32m---> 11\u001b[1;33m \u001b[0mprint\u001b[0m\u001b[1;33m(\u001b[0m\u001b[0msum_data\u001b[0m\u001b[1;33m(\u001b[0m\u001b[1;33m[\u001b[0m\u001b[1;33m]\u001b[0m\u001b[1;33m)\u001b[0m\u001b[1;33m)\u001b[0m\u001b[1;33m\u001b[0m\u001b[1;33m\u001b[0m\u001b[0m\n\u001b[0m",
      "\u001b[1;32m~\\AppData\\Local\\Temp/ipykernel_20032/1370969874.py\u001b[0m in \u001b[0;36msum_data\u001b[1;34m(data)\u001b[0m\n\u001b[0;32m      3\u001b[0m         \u001b[1;32mreturn\u001b[0m\u001b[1;33m(\u001b[0m\u001b[0msum\u001b[0m\u001b[1;33m(\u001b[0m\u001b[0mdata\u001b[0m\u001b[1;33m)\u001b[0m\u001b[1;33m)\u001b[0m\u001b[1;33m\u001b[0m\u001b[1;33m\u001b[0m\u001b[0m\n\u001b[0;32m      4\u001b[0m     \u001b[1;32melse\u001b[0m\u001b[1;33m:\u001b[0m\u001b[1;33m\u001b[0m\u001b[1;33m\u001b[0m\u001b[0m\n\u001b[1;32m----> 5\u001b[1;33m         \u001b[1;32mraise\u001b[0m \u001b[0mValueError\u001b[0m\u001b[1;33m(\u001b[0m\u001b[1;34m\"The data should not be empty!\"\u001b[0m\u001b[1;33m)\u001b[0m\u001b[1;33m\u001b[0m\u001b[1;33m\u001b[0m\u001b[0m\n\u001b[0m\u001b[0;32m      6\u001b[0m \u001b[1;33m\u001b[0m\u001b[0m\n\u001b[0;32m      7\u001b[0m \u001b[0mprint\u001b[0m\u001b[1;33m(\u001b[0m\u001b[1;34m\"Non-empty data\"\u001b[0m\u001b[1;33m)\u001b[0m\u001b[1;33m\u001b[0m\u001b[1;33m\u001b[0m\u001b[0m\n",
      "\u001b[1;31mValueError\u001b[0m: The data should not be empty!"
     ]
    }
   ],
   "source": [
    "def sum_data(data):\n",
    "    if data:\n",
    "        return(sum(data))\n",
    "    else:\n",
    "        raise ValueError(\"The data should not be empty!\")        \n",
    "\n",
    "print(\"Non-empty data\")\n",
    "print(sum_data([10, 20, 0]))\n",
    "print(sum_data([0, 0, 0])) # Note that collections where all values are zero are not empty and so are still truthy\n",
    "print(\"Empty Data\")\n",
    "print(sum_data([]))"
   ]
  },
  {
   "cell_type": "markdown",
   "metadata": {},
   "source": [
    "The code works just as well but, again, the code is shorter and we're asking Python to do fewer operations so it's slightly quicker to evaluate."
   ]
  },
  {
   "cell_type": "markdown",
   "metadata": {},
   "source": [
    "### Using Truthiness in Logical Operations\n",
    "\n",
    "When using logical operations, such as ```or``` and ```and```, the truthiness of non-```bool```s can also be used, but the results returned is more complicated than you might expect and exposes some of how these operators actually function:"
   ]
  },
  {
   "cell_type": "code",
   "execution_count": 8,
   "metadata": {},
   "outputs": [
    {
     "name": "stdout",
     "output_type": "stream",
     "text": [
      "==========Not\n",
      "False\n",
      "True\n",
      "==========Or\n",
      "1\n",
      "2\n",
      "1\n",
      "1\n",
      "[]\n",
      "0\n",
      "==========And\n",
      "2\n",
      "1\n",
      "0\n",
      "0\n",
      "0\n",
      "[]\n"
     ]
    }
   ],
   "source": [
    "truthy1 = 1\n",
    "truthy2 = 2\n",
    "falsy1 = 0\n",
    "falsy2 = []\n",
    "\n",
    "print(\"==========Not\")\n",
    "print(not truthy1) # Returns a bool with the opposite of the truthiness value of the supplied value\n",
    "print(not falsy1)\n",
    "\n",
    "print(\"==========Or\")\n",
    "print(truthy1 or truthy2) # If both values are truthy, return the first value\n",
    "print(truthy2 or truthy1)\n",
    "print(truthy1 or falsy1) # If one value is truthy, return that value\n",
    "print(falsy1 or truthy1)\n",
    "print(falsy1 or falsy2) # If both values are falsy, return the second value\n",
    "print(falsy2 or falsy1)\n",
    "\n",
    "print(\"==========And\")\n",
    "print(truthy1 and truthy2) # If both values are truthy, return the second value\n",
    "print(truthy2 and truthy1)\n",
    "print(truthy1 and falsy1) # If one value is falsy, return that value\n",
    "print(falsy1 and truthy1)\n",
    "print(falsy1 and falsy2) # If both values are falsy, return the first value\n",
    "print(falsy2 and falsy1)\n"
   ]
  },
  {
   "cell_type": "markdown",
   "metadata": {},
   "source": [
    "So it is possible to construct more complex logical statements using the truthiness of variable, but it requires some knowledge of these logical operations and some careful thought."
   ]
  },
  {
   "cell_type": "markdown",
   "metadata": {},
   "source": [
    "## Bools in Arithmetic\n",
    "\n",
    "### Functionality\n",
    "\n",
    "```bool```s can also be used in arithmetic statements. In these cases, the value ```True``` has the value ```1``` and ```False``` has the value zero. For example:"
   ]
  },
  {
   "cell_type": "code",
   "execution_count": 9,
   "metadata": {},
   "outputs": [
    {
     "name": "stdout",
     "output_type": "stream",
     "text": [
      "2\n",
      "0\n"
     ]
    }
   ],
   "source": [
    "print(True + False + True)\n",
    "print((3 < 2) * 4) # The expression in parentheses evaluates to False, which is treated as zero in the multiplication"
   ]
  },
  {
   "cell_type": "markdown",
   "metadata": {},
   "source": [
    "When evaluating statements which involve both comparison operators (such as ```>``` and ```==```) and arithmetic statements (such as ```+``` and ```*```), it's important to know the order of operations. This is as follows, from high to low priority:\n",
    "\n",
    "* Parentheses ```()```\n",
    "* Exponent ```**```\n",
    "* Multiplication and division ```*```, ```/```, ```//```, ```%```\n",
    "* Addition and subtraction ```+```, ```-```\n",
    "* Comparison, identity and membership ```==```, ```!=```, ```>```, ```>=```, ```<```, ```<=```, ```is```, ```is not```, ```in```, ```not in```\n",
    "* Not ```not```\n",
    "* And ```and```\n",
    "* Or ```or```\n",
    "\n",
    "In terms of the order of operations, the key takeaway for the purposes of boolean algebra is that comparison operators occur after arithmetic."
   ]
  },
  {
   "cell_type": "markdown",
   "metadata": {},
   "source": [
    "### Why is this Useful?\n",
    "\n",
    "Boolean algebra is useful in a number of cases as a compact and efficient way of controlling logic in a calculation without explicitly writing an ```if``` statement.\n",
    "\n",
    "Consider the case where we have a list of data and we want to count the number of pieces of data which are larger than zero. Without boolean algebra, we might  write something like this:"
   ]
  },
  {
   "cell_type": "code",
   "execution_count": 10,
   "metadata": {},
   "outputs": [
    {
     "name": "stdout",
     "output_type": "stream",
     "text": [
      "6\n"
     ]
    }
   ],
   "source": [
    "data = [1, -3, 5, 10, 6, 8, -2, 1, -8]\n",
    "\n",
    "count = 0\n",
    "for data_point in data:\n",
    "    if data_point > 0:\n",
    "        count += 1\n",
    "\n",
    "print(count)"
   ]
  },
  {
   "cell_type": "markdown",
   "metadata": {},
   "source": [
    "We can simplify this using boolean algebra by writing:"
   ]
  },
  {
   "cell_type": "code",
   "execution_count": 11,
   "metadata": {},
   "outputs": [
    {
     "name": "stdout",
     "output_type": "stream",
     "text": [
      "6\n"
     ]
    }
   ],
   "source": [
    "data = [1, -3, 5, 10, 6, 8, -2, 1, -8]\n",
    "\n",
    "count = 0\n",
    "for data_point in data:\n",
    "    count += data_point > 0\n",
    "\n",
    "print(count)"
   ]
  },
  {
   "cell_type": "markdown",
   "metadata": {},
   "source": [
    "This has removed the if-statement, shortening the code, making it faster to write and more readable. It also means Python doesn't have to execute the logic of the if-statement to decide if it is going to execute the following line - it just executes the single statement. As a result, changes like this will often cause the code to execute more quickly.\n",
    "\n",
    "Note that, we could even collapse this further and remove the explicit for-loop using a list comprehension:"
   ]
  },
  {
   "cell_type": "code",
   "execution_count": 12,
   "metadata": {},
   "outputs": [
    {
     "name": "stdout",
     "output_type": "stream",
     "text": [
      "6\n"
     ]
    }
   ],
   "source": [
    "data = [1, -3, 5, 10, 6, 8, -2, 1, -8]\n",
    "\n",
    "count = sum([data_point > 0 for data_point in data])\n",
    "\n",
    "print(count)"
   ]
  },
  {
   "cell_type": "markdown",
   "metadata": {},
   "source": [
    "Alternatively, imagine we want to write a function which returns ```0``` if the argument passed to it is a multiple of 5 and twice the value if it's not. We could write such a function with an ```if``` statement:"
   ]
  },
  {
   "cell_type": "code",
   "execution_count": 13,
   "metadata": {},
   "outputs": [
    {
     "name": "stdout",
     "output_type": "stream",
     "text": [
      "2\n",
      "4\n",
      "0\n"
     ]
    }
   ],
   "source": [
    "def my_func(x):\n",
    "    if x % 5 == 0:\n",
    "        return(0)\n",
    "    else:\n",
    "        return(x * 2)\n",
    "\n",
    "print(my_func(1))\n",
    "print(my_func(2))\n",
    "print(my_func(5))"
   ]
  },
  {
   "cell_type": "markdown",
   "metadata": {},
   "source": [
    "Or, we can collapse this down into a single expression:"
   ]
  },
  {
   "cell_type": "code",
   "execution_count": 14,
   "metadata": {},
   "outputs": [
    {
     "name": "stdout",
     "output_type": "stream",
     "text": [
      "2\n",
      "4\n",
      "0\n"
     ]
    }
   ],
   "source": [
    "def my_func(x):\n",
    "    return((x % 5 != 0) * x *2)\n",
    "\n",
    "print(my_func(1))\n",
    "print(my_func(2))\n",
    "print(my_func(5))"
   ]
  },
  {
   "cell_type": "markdown",
   "metadata": {},
   "source": [
    "Here, the modulo operator ```%``` is executed, then the inequality operator ```!=```. The expression in parentheses will be ```False``` if ```x``` is a multiple of 5 and ```True``` if not. This will be multiplied by the expression ```x * 2```. So, if ```x``` is a multiple of ```5```, ```0``` will be returned and, if it's not ```x * 2``` will be returned.\n",
    "\n",
    "As a result, this function behaves as we intended, but is much shorter and compact and, as it doesn't involve Python executing the logic of an ```if```-```else``` statement, it is significantly faster."
   ]
  }
 ],
 "metadata": {
  "kernelspec": {
   "display_name": "Python 3.9.13 64-bit (windows store)",
   "language": "python",
   "name": "python3"
  },
  "language_info": {
   "codemirror_mode": {
    "name": "ipython",
    "version": 3
   },
   "file_extension": ".py",
   "mimetype": "text/x-python",
   "name": "python",
   "nbconvert_exporter": "python",
   "pygments_lexer": "ipython3",
   "version": "3.9.13"
  },
  "orig_nbformat": 4,
  "vscode": {
   "interpreter": {
    "hash": "5dbf766eb95023f9dddb799b5381b4ed6a9322e38632e8ac1570872c767b304b"
   }
  }
 },
 "nbformat": 4,
 "nbformat_minor": 2
}
