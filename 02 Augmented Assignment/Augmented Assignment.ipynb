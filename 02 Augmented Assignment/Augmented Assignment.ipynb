{
 "cells": [
  {
   "cell_type": "markdown",
   "id": "1ccb60e6",
   "metadata": {},
   "source": [
    "# Augmented Assignment"
   ]
  },
  {
   "cell_type": "markdown",
   "id": "75f7683a",
   "metadata": {},
   "source": [
    "## General Usage\n",
    "\n",
    "Many design patterns require updating a variable that already exists by performing a simple arithmetic operation to the existing value. For example, we might use the accumulator design pattern to sum all the numbers up to 10:"
   ]
  },
  {
   "cell_type": "code",
   "execution_count": 1,
   "id": "f5fa7c61",
   "metadata": {},
   "outputs": [
    {
     "name": "stdout",
     "output_type": "stream",
     "text": [
      "55\n"
     ]
    }
   ],
   "source": [
    "result = 0\n",
    "\n",
    "for i in range(11):\n",
    "    result = result + i\n",
    "    \n",
    "print(result)"
   ]
  },
  {
   "cell_type": "markdown",
   "id": "fe0f1f21",
   "metadata": {},
   "source": [
    "Here, we updated the value of the variable ```result``` by adding a value to it. The code here works very well as is, but we can use an incrementation operator to make it a little neater and more succinct:"
   ]
  },
  {
   "cell_type": "code",
   "execution_count": 2,
   "id": "68b56d96",
   "metadata": {},
   "outputs": [
    {
     "name": "stdout",
     "output_type": "stream",
     "text": [
      "55\n"
     ]
    }
   ],
   "source": [
    "result = 0\n",
    "\n",
    "for i in range(11):\n",
    "    result += i\n",
    "    \n",
    "print(result)"
   ]
  },
  {
   "cell_type": "markdown",
   "id": "a0da33cb",
   "metadata": {},
   "source": [
    "Here, the incrementation operator ```+=``` adds the value to the right of the operator to the variable to the left of it, making the operation identical to the code cell before it. The modified code is shorter and easier to read. This is particularly true if the name of the variable we're updating is long or cumbersome, as it only needs to be written once instead of twice."
   ]
  },
  {
   "cell_type": "markdown",
   "id": "872ef49e",
   "metadata": {},
   "source": [
    "## Augmented Assignment Operators\n",
    "\n",
    "The incrementation operator is an example of an augmented assignment operator. All augmented assignment operators are composed over an arithmetic operator, immediately followed by an assignment operator. These operators assign a new value to the variable to the left of the operator. The value assigned is the result of the arithmetic operator operating on the values to the left and right of the augmented assignment operator. Here are some common augmented assignment operators:\n",
    "\n",
    "| Augmented Assignment Operator | Arithmetic Operator Applied |\n",
    "|---------------------|---------------------------|\n",
    "| += | Addition |\n",
    "| -= | Subtraction |\n",
    "| $*$= | Multiplication |\n",
    "| /= | Division |\n",
    "| //= | Integer Devision |\n",
    "| %= | Modulo |\n",
    "| $**$= | Exponentiation |\n",
    "\n",
    "The operator ```+=``` is sometimes referred to as the increment operator and ```-=``` is sometimes referred to as the decrement operator.\n",
    "\n",
    "Below are some examples of these operators in action:"
   ]
  },
  {
   "cell_type": "code",
   "execution_count": 3,
   "id": "3175bc5f",
   "metadata": {},
   "outputs": [
    {
     "name": "stdout",
     "output_type": "stream",
     "text": [
      "+=  7\n",
      "-=  3\n",
      "*=  10\n",
      "+=  7\n",
      "/=  2.5\n",
      "//= 2\n",
      "%=  1\n",
      "**= 25\n"
     ]
    }
   ],
   "source": [
    "a = 5\n",
    "a += 2\n",
    "print(\"+= \", a)\n",
    "\n",
    "a = 5\n",
    "a -= 2\n",
    "print(\"-= \", a)\n",
    "\n",
    "a = 5\n",
    "a *= 2\n",
    "print(\"*= \", a)\n",
    "\n",
    "a = 5\n",
    "a += 2\n",
    "print(\"+= \", a)\n",
    "\n",
    "a = 5\n",
    "a /= 2\n",
    "print(\"/= \", a)\n",
    "\n",
    "a = 5\n",
    "a //= 2\n",
    "print(\"//=\", a)\n",
    "\n",
    "a = 5\n",
    "a %= 2\n",
    "print(\"%= \", a)\n",
    "\n",
    "a = 5\n",
    "a **= 2\n",
    "print(\"**=\", a)"
   ]
  },
  {
   "cell_type": "markdown",
   "id": "a5541030",
   "metadata": {},
   "source": [
    "The operators will also work on other data types, such as strings and lists, essentially applying the underlying operation to the variable on the left of the operator:"
   ]
  },
  {
   "cell_type": "code",
   "execution_count": 4,
   "id": "dd88ae02",
   "metadata": {},
   "outputs": [
    {
     "name": "stdout",
     "output_type": "stream",
     "text": [
      "Hello world\n",
      "[1, 2, 1, 2, 1, 2]\n",
      "[3 6 9]\n"
     ]
    }
   ],
   "source": [
    "# Concatenating strings\n",
    "a = \"Hello\"\n",
    "a += \" world\"\n",
    "print(a)\n",
    "\n",
    "# Extending a list by repeating it\n",
    "a = [1,2]\n",
    "a *= 3\n",
    "print(a)\n",
    "\n",
    "# Will also operate on Numpy arrays\n",
    "# Don't worry about this example if you're not familiar with Numpy\n",
    "import numpy as np\n",
    "a = np.array([1,2,3])\n",
    "a *= 3\n",
    "print(a)"
   ]
  },
  {
   "cell_type": "markdown",
   "id": "cb7422b0",
   "metadata": {},
   "source": [
    "Essentially, anywhere where would write ```a = a [operator] b```, you can replace it with ```a [operator]= b``` and this is normally a compact and easy to read way to refactor the code."
   ]
  },
  {
   "cell_type": "markdown",
   "id": "e9790624",
   "metadata": {},
   "source": [
    "## Usage\n",
    "\n",
    "We've already seen how these operators can be useful in the accumulator pattern, but there are plenty of other cases where we want to increase a variable, such as when we're counting something. Consider the following code which counts the number of vowels in a string:"
   ]
  },
  {
   "cell_type": "code",
   "execution_count": 7,
   "id": "75692a24",
   "metadata": {},
   "outputs": [
    {
     "name": "stdout",
     "output_type": "stream",
     "text": [
      "3\n"
     ]
    }
   ],
   "source": [
    "def count_vowels(phrase):\n",
    "    n_vowels = 0\n",
    "    for character in phrase:\n",
    "        if character in \"aeiouAEIOU\":\n",
    "            n_vowels += 1\n",
    "    return(n_vowels)\n",
    "            \n",
    "print(count_vowels(\"Hello world\"))"
   ]
  },
  {
   "cell_type": "markdown",
   "id": "e70729c9",
   "metadata": {},
   "source": [
    "So, be on the lookout for cases where you're counting or keeping a running total, or extending a string and you're likely to be able to use augmented assignment to make your code more compact and readable."
   ]
  },
  {
   "cell_type": "markdown",
   "id": "77e049dc",
   "metadata": {},
   "source": [
    "## Incrementing by 1\n",
    "\n",
    "Incrementing by 1 is a common operation when counting events or occurrences of some sort. As a result, some other languages (such as C, C++, Java, and Go) have a special operator to increase a variable by 1, often with the syntax ```a++```. This is a further shorthand, but Python does not have an equivalent operator, so you will need to use the syntax ```a += 1``` to achieve the same effect."
   ]
  },
  {
   "cell_type": "code",
   "execution_count": 8,
   "id": "f6411827",
   "metadata": {},
   "outputs": [
    {
     "ename": "SyntaxError",
     "evalue": "invalid syntax (Temp/ipykernel_11908/752065838.py, line 3)",
     "output_type": "error",
     "traceback": [
      "\u001b[1;36m  File \u001b[1;32m\"C:\\Users\\cmcoo\\AppData\\Local\\Temp/ipykernel_11908/752065838.py\"\u001b[1;36m, line \u001b[1;32m3\u001b[0m\n\u001b[1;33m    a ++\u001b[0m\n\u001b[1;37m        ^\u001b[0m\n\u001b[1;31mSyntaxError\u001b[0m\u001b[1;31m:\u001b[0m invalid syntax\n"
     ]
    }
   ],
   "source": [
    "#This will fail\n",
    "a = 1\n",
    "a ++\n",
    "print(a)"
   ]
  },
  {
   "cell_type": "code",
   "execution_count": 9,
   "id": "e6520355",
   "metadata": {},
   "outputs": [
    {
     "name": "stdout",
     "output_type": "stream",
     "text": [
      "2\n"
     ]
    }
   ],
   "source": [
    "# This will work\n",
    "a = 1\n",
    "a += 1\n",
    "print(a)"
   ]
  }
 ],
 "metadata": {
  "kernelspec": {
   "display_name": "Python 3.9.13 64-bit (microsoft store)",
   "language": "python",
   "name": "python3"
  },
  "language_info": {
   "codemirror_mode": {
    "name": "ipython",
    "version": 3
   },
   "file_extension": ".py",
   "mimetype": "text/x-python",
   "name": "python",
   "nbconvert_exporter": "python",
   "pygments_lexer": "ipython3",
   "version": "3.9.13"
  },
  "vscode": {
   "interpreter": {
    "hash": "5dbf766eb95023f9dddb799b5381b4ed6a9322e38632e8ac1570872c767b304b"
   }
  }
 },
 "nbformat": 4,
 "nbformat_minor": 5
}
