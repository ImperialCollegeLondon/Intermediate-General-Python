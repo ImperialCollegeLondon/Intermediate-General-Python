{
 "cells": [
  {
   "cell_type": "markdown",
   "metadata": {},
   "source": [
    "# Function Arguments Summary\n",
    "\n",
    "This module covers some more flexible ways a function can receive arguments.\n",
    "\n",
    "## Optional Arguments\n",
    "\n",
    "It's possible in Python to specify parameters for a function that may receive a value from an argument, as well as default values which be used if no argument is provided."
   ]
  },
  {
   "cell_type": "code",
   "execution_count": 1,
   "metadata": {},
   "outputs": [],
   "source": [
    "def survey_processor(results, path, threshold=0, exclusions=()):\n",
    "# Threshold and exclusions may be provided as arguments or not\n",
    "# If they are not, the variables will have the values of 0 or an empty tuple respectively\n",
    "    with open(path, \"w\") as f:\n",
    "        for option, votes in results.items():\n",
    "            if votes < threshold or option in exclusions:\n",
    "            # One common use of optional arguments is control optional functionality\n",
    "            # Here they provide reasons to exclude options from the output\n",
    "                continue\n",
    "            f.write(\"{} {}\\n\".format(option, votes))\n",
    "\n",
    "# We can provide this data to the function with different optional arguments and observe the outputs\n",
    "votes = {\"cadbury\": 10, \"galaxy\":5, \"hersheys\": 7, \"lindt\": 1, \"don't know\": 4}\n",
    "\n",
    "# For the following calls, check the files produced to see the output\n",
    "\n",
    "# We can call the function with no optional arguments\n",
    "survey_processor(votes, \"no_opt.txt\")\n",
    "# We can call the function with positional arguments only\n",
    "# These will be passed into parameters in order\n",
    "survey_processor(votes, \"all_opt.txt\", 3, (\"don't know\"))\n",
    "# We can specify which specific parameters to pass arguments to, using keyword arguments\n",
    "survey_processor(votes, \"some_opt.txt\", exclusions=(\"don't know\"))"
   ]
  },
  {
   "cell_type": "markdown",
   "metadata": {},
   "source": [
    "The parameters with default arguments must be specified after parameters without default values in the parameter list of the function definition. Keyword arguments must be specified after positional arguments in the argument list of the function call."
   ]
  },
  {
   "cell_type": "markdown",
   "metadata": {},
   "source": [
    "## Packing Arguments\n",
    "\n",
    "### Packing Positional Arguments\n",
    "We can pack positional arguments which exceed the number of explicitly specified parameters by specifying a parameter with a ```*``` before it. This variable will be a tuple containing excess positional arguments which cannot be matched with named parameters. There can only be one parameter preceded by ```*```."
   ]
  },
  {
   "cell_type": "code",
   "execution_count": 2,
   "metadata": {},
   "outputs": [
    {
     "name": "stdout",
     "output_type": "stream",
     "text": [
      "1 ()\n",
      "1\n",
      "3 (4, 5)\n",
      "50\n"
     ]
    }
   ],
   "source": [
    "def sum_of_squares(a, *values):\n",
    "# This function requires at least one argument.\n",
    "# Excess positional arguments will be packed into the tuple named values\n",
    "    print(a, values) # Print the values so we can see what's going on\n",
    "    # Calculate the sum of the squares of the arguments\n",
    "    return(a ** 2 + sum(x ** 2 for x in values))  \n",
    "\n",
    "# If we provide just one argument it will be passed to a\n",
    "# values will be an empty tuple as there are no extra arguments\n",
    "print(sum_of_squares(1))\n",
    "# The first argument gets passed to a\n",
    "# The remainder of the arguments will get packed into values\n",
    "print(sum_of_squares(3, 4, 5))"
   ]
  },
  {
   "cell_type": "markdown",
   "metadata": {},
   "source": [
    "### Packing Keyword Arguments\n",
    "\n",
    "If we put the characters ```**``` before a parameter, this parameter will become a dictionary and receive any keyword arguments which do not match other explicitly named parameters. The keys of the dictionary will be the keywords of the arguments and the corresponding values will be the values provided in the argument list of the function call. There can only be one parameter preceded by ```**```."
   ]
  },
  {
   "cell_type": "code",
   "execution_count": 3,
   "metadata": {},
   "outputs": [
    {
     "name": "stdout",
     "output_type": "stream",
     "text": [
      "2 {'a0': 1, 'a2': 3}\n",
      "13\n",
      "0.5 {'a1': 1, 'a3': 1}\n",
      "0.625\n"
     ]
    }
   ],
   "source": [
    "def polynomial(x, **coefficients):\n",
    "# This function requires on argument for x\n",
    "# Extra keyword arguments will be packed into the dictionary named \"coefficients\"\n",
    "# The names of the arguments will form the keys of the keys\n",
    "# The values supplied to these keyword arguments will provide the corresponding values\n",
    "    # Print the values of the arguments so we can see what's going on\n",
    "    print(x, coefficients)\n",
    "    # Sum a tuple comprehension to evaluate the polynomial\n",
    "    return(sum(value * x ** int(key[1:]) for key, value in coefficients.items()))\n",
    "\n",
    "# This call represents 1+3x^2 evaluated at x=2\n",
    "# The 2 is a positional argument and gets passed to x\n",
    "# The other keyword arguments provide the coefficients for the constant and x^2 terms\n",
    "print(polynomial(2, a0=1, a2=3))\n",
    "\n",
    "# This call represents x+x^3 evaluated at x=0.5\n",
    "# The 0.5 is a keyword argument that gets passed to x\n",
    "# The other keyword arguments provide the coefficients for the linear and x^3 terms\n",
    "print(polynomial(a1=1, a3=1, x=0.5))"
   ]
  },
  {
   "cell_type": "markdown",
   "metadata": {},
   "source": [
    "### Parameter Order\n",
    "\n",
    "When using multiple different types of parameters, it is normally best to use them in this order:\n",
    "\n",
    "* Positional parameters\n",
    "* The parameter to receive other positional arguments (using the ```*``` notation)\n",
    "* Optional parameters with default values\n",
    "* The argument to receive other keyword arguments (using the ```**``` notation)"
   ]
  },
  {
   "cell_type": "markdown",
   "metadata": {},
   "source": [
    "## Unpacking Arguments\n",
    "\n",
    "Consider the following function."
   ]
  },
  {
   "cell_type": "code",
   "execution_count": 4,
   "metadata": {},
   "outputs": [],
   "source": [
    "def sum4(a, b, c=0, d=0):\n",
    "# Receives 4 values and returns the sum of them. \"c\" and \"d\" are optional\n",
    "    print(a, b, c, d) # Print the values of the parameters so we can see what's happening\n",
    "    return(a + b + c + d) # Calculate and return their sum"
   ]
  },
  {
   "cell_type": "markdown",
   "metadata": {},
   "source": [
    "This function accepts specific arguments. We already have a number of ways of calling it."
   ]
  },
  {
   "cell_type": "code",
   "execution_count": 5,
   "metadata": {},
   "outputs": [
    {
     "name": "stdout",
     "output_type": "stream",
     "text": [
      "1 2 0 0\n",
      "3\n",
      "1 2 3 4\n",
      "10\n",
      "1 3 2 0\n",
      "6\n",
      "4 3 0 2\n",
      "9\n"
     ]
    }
   ],
   "source": [
    "print(sum4(1, 2)) # Using positional arguments to give values to a and b only\n",
    "print(sum4(1, 2, 3, 4)) # Using positional arguments to give values to all parameters\n",
    "print(sum4(1, c=2, b=3)) # Using a mixture of positional and keyword arguments\n",
    "print(sum4(a=4, d=2, b=3)) # Using only keyword arguments"
   ]
  },
  {
   "cell_type": "markdown",
   "metadata": {},
   "source": [
    "If we already have one or more iterables (such as lists or tuples), we can use the ```*``` character to unpack its values into positional arguments."
   ]
  },
  {
   "cell_type": "code",
   "execution_count": 6,
   "metadata": {},
   "outputs": [
    {
     "name": "stdout",
     "output_type": "stream",
     "text": [
      "1 2 3 4\n",
      "10\n",
      "1 2 3 4\n",
      "10\n",
      "3 4 5 6\n",
      "18\n"
     ]
    }
   ],
   "source": [
    "x = [1, 2, 3, 4]\n",
    "y = [5, 6]\n",
    "\n",
    "print(sum4(x[0], x[1], x[2], x[3])) #Without unpacking, this is unwieldy and gets worse with more arguments\n",
    "print(sum4(*x)) # The * character unpacks the entries of x into the parameters of sum4\n",
    "print(sum4(*x[2:], *y)) # We can unpack values of multiple iterables"
   ]
  },
  {
   "cell_type": "markdown",
   "metadata": {},
   "source": [
    "We can also unpack a ```dict``` into keyword arguments by preceding the argument with ```**```. The keys of the dictionary provides the keywords for the arguments and the corresponding value are the values passed to those parameters."
   ]
  },
  {
   "cell_type": "code",
   "execution_count": 7,
   "metadata": {},
   "outputs": [
    {
     "name": "stdout",
     "output_type": "stream",
     "text": [
      "1 2 5 10\n",
      "18\n",
      "5 6 5 10\n",
      "26\n"
     ]
    }
   ],
   "source": [
    "z = {\"c\":5, \"d\":10}\n",
    "\n",
    "print(sum4(1, 2, **z)) # Unpack z so it provides values for c and d\n",
    "print(sum4(*y, **z)) # Can combine with unpacking an iterable with *"
   ]
  },
  {
   "cell_type": "markdown",
   "metadata": {},
   "source": [
    "We can provide several arguments which can be unpacked with ```*``` and/or ```**``` in the argument list of a call to a function. It's also possible to unpack variables into a function which may then pack the values provided."
   ]
  }
 ],
 "metadata": {
  "kernelspec": {
   "display_name": "Python 3.9.13 64-bit (microsoft store)",
   "language": "python",
   "name": "python3"
  },
  "language_info": {
   "codemirror_mode": {
    "name": "ipython",
    "version": 3
   },
   "file_extension": ".py",
   "mimetype": "text/x-python",
   "name": "python",
   "nbconvert_exporter": "python",
   "pygments_lexer": "ipython3",
   "version": "3.9.13"
  },
  "orig_nbformat": 4,
  "vscode": {
   "interpreter": {
    "hash": "5dbf766eb95023f9dddb799b5381b4ed6a9322e38632e8ac1570872c767b304b"
   }
  }
 },
 "nbformat": 4,
 "nbformat_minor": 2
}
