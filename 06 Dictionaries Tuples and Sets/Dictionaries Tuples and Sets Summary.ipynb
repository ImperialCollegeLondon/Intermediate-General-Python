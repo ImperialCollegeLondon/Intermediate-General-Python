{
 "cells": [
  {
   "cell_type": "markdown",
   "metadata": {},
   "source": [
    "# Dictionaries, Tuples and Sets\n",
    "\n",
    "Dictionaries, tuples, sets and lists are all collections in Python - objects which can store references to objects of any other type. This notebook assumes you're already familiar with lists and summarises the functionality of the other three types of collections."
   ]
  },
  {
   "cell_type": "markdown",
   "metadata": {},
   "source": [
    "## Dictionaries\n",
    "\n",
    "Dictionaries store values which we may access through a key, which be of any hashable type."
   ]
  },
  {
   "cell_type": "code",
   "execution_count": 1,
   "metadata": {},
   "outputs": [
    {
     "name": "stdout",
     "output_type": "stream",
     "text": [
      "{'apples': 10, 'bananas': 5}\n",
      "{'apples': 7, 'bananas': 5}\n"
     ]
    }
   ],
   "source": [
    "dict1 = {} # Create an empty dictionary\n",
    "dict1[\"apples\"] = 10 # Add a value 10 with a key of \"apples\"\n",
    "dict1[\"bananas\"] = 5\n",
    "print(dict1)\n",
    "dict1[\"apples\"] = 7 # We can change the value associated with an existing key\n",
    "print(dict1)"
   ]
  },
  {
   "cell_type": "markdown",
   "metadata": {},
   "source": [
    "We can specify a number of different key-value pairs when creating a dictionary as follows:"
   ]
  },
  {
   "cell_type": "code",
   "execution_count": 2,
   "metadata": {},
   "outputs": [
    {
     "name": "stdout",
     "output_type": "stream",
     "text": [
      "{'melons': 5, 'peaches': 4}\n"
     ]
    }
   ],
   "source": [
    "dict2 = {\"melons\": 5, \"peaches\": 4}\n",
    "print(dict2)"
   ]
  },
  {
   "cell_type": "markdown",
   "metadata": {},
   "source": [
    "We can use the ```update``` method to add the key-value pairs from one dictionary to another."
   ]
  },
  {
   "cell_type": "code",
   "execution_count": 3,
   "metadata": {},
   "outputs": [
    {
     "name": "stdout",
     "output_type": "stream",
     "text": [
      "{'apples': 7, 'bananas': 5, 'melons': 5, 'peaches': 4}\n",
      "{'melons': 5, 'peaches': 4}\n"
     ]
    }
   ],
   "source": [
    "dict1.update(dict2)\n",
    "print(dict1) # The key-value pairs of dict2 are added to dict1\n",
    "print(dict2) # dict2 is unchanged"
   ]
  },
  {
   "cell_type": "markdown",
   "metadata": {},
   "source": [
    "We can use values from a dictionary just like using values from a list."
   ]
  },
  {
   "cell_type": "code",
   "execution_count": 4,
   "metadata": {},
   "outputs": [
    {
     "name": "stdout",
     "output_type": "stream",
     "text": [
      "8\n"
     ]
    }
   ],
   "source": [
    "print(dict1[\"peaches\"] + 4)"
   ]
  },
  {
   "cell_type": "markdown",
   "metadata": {},
   "source": [
    "If we try to access a value using a key not in a dictionary, a KeyError exception will be raised."
   ]
  },
  {
   "cell_type": "code",
   "execution_count": 5,
   "metadata": {},
   "outputs": [
    {
     "ename": "KeyError",
     "evalue": "'plums'",
     "output_type": "error",
     "traceback": [
      "\u001b[1;31m---------------------------------------------------------------------------\u001b[0m",
      "\u001b[1;31mKeyError\u001b[0m                                  Traceback (most recent call last)",
      "\u001b[1;32m~\\AppData\\Local\\Temp/ipykernel_22128/2190242362.py\u001b[0m in \u001b[0;36m<module>\u001b[1;34m\u001b[0m\n\u001b[1;32m----> 1\u001b[1;33m \u001b[0mprint\u001b[0m\u001b[1;33m(\u001b[0m\u001b[0mdict1\u001b[0m\u001b[1;33m[\u001b[0m\u001b[1;34m\"plums\"\u001b[0m\u001b[1;33m]\u001b[0m\u001b[1;33m)\u001b[0m\u001b[1;33m\u001b[0m\u001b[1;33m\u001b[0m\u001b[0m\n\u001b[0m",
      "\u001b[1;31mKeyError\u001b[0m: 'plums'"
     ]
    }
   ],
   "source": [
    "print(dict1[\"plums\"])"
   ]
  },
  {
   "cell_type": "markdown",
   "metadata": {},
   "source": [
    "We can delete a key-value pair from a dictionary using the ```del``` keyword."
   ]
  },
  {
   "cell_type": "code",
   "execution_count": 6,
   "metadata": {},
   "outputs": [
    {
     "name": "stdout",
     "output_type": "stream",
     "text": [
      "{'bananas': 5, 'melons': 5, 'peaches': 4}\n"
     ]
    }
   ],
   "source": [
    "del dict1[\"apples\"]\n",
    "print(dict1)"
   ]
  },
  {
   "cell_type": "markdown",
   "metadata": {},
   "source": [
    "We can loop over the keys or values of a dictionary."
   ]
  },
  {
   "cell_type": "code",
   "execution_count": 7,
   "metadata": {},
   "outputs": [
    {
     "name": "stdout",
     "output_type": "stream",
     "text": [
      "bananas\n",
      "melons\n",
      "peaches\n",
      "5\n",
      "5\n",
      "4\n"
     ]
    }
   ],
   "source": [
    "for x in dict1: # Looping a dictionary gives the keys\n",
    "    print(x)\n",
    "\n",
    "for x in dict1.values():\n",
    "    print(x)"
   ]
  },
  {
   "cell_type": "markdown",
   "metadata": {},
   "source": [
    "We can create a dictionary using a dictionary comprehension. This is just like a list comprehension except we we need to provide the values for both the key and the value either side of a colon."
   ]
  },
  {
   "cell_type": "code",
   "execution_count": 8,
   "metadata": {},
   "outputs": [
    {
     "name": "stdout",
     "output_type": "stream",
     "text": [
      "{0: 0, 10: 2, 2: 4, 30: 6, 4: 8}\n"
     ]
    }
   ],
   "source": [
    "my_dict = {i if i % 2 == 0 else i *10: 2 * i for i in range(5)}\n",
    "print(my_dict)"
   ]
  },
  {
   "cell_type": "markdown",
   "metadata": {},
   "source": [
    "## Tuples\n",
    "\n",
    "Tuples are collections where values are accessed by integer indices. They may be created with a pair of parentheses."
   ]
  },
  {
   "cell_type": "code",
   "execution_count": 9,
   "metadata": {},
   "outputs": [
    {
     "name": "stdout",
     "output_type": "stream",
     "text": [
      "(1, 4, 5)\n",
      "6\n",
      "(1,)\n"
     ]
    },
    {
     "ename": "TypeError",
     "evalue": "'type' object does not support item assignment",
     "output_type": "error",
     "traceback": [
      "\u001b[1;31m---------------------------------------------------------------------------\u001b[0m",
      "\u001b[1;31mTypeError\u001b[0m                                 Traceback (most recent call last)",
      "\u001b[1;32m~\\AppData\\Local\\Temp/ipykernel_22128/90863248.py\u001b[0m in \u001b[0;36m<module>\u001b[1;34m\u001b[0m\n\u001b[0;32m      5\u001b[0m \u001b[0mprint\u001b[0m\u001b[1;33m(\u001b[0m\u001b[0mtuple1\u001b[0m\u001b[1;33m[\u001b[0m\u001b[1;36m1\u001b[0m\u001b[1;33m]\u001b[0m \u001b[1;33m+\u001b[0m \u001b[1;36m2\u001b[0m\u001b[1;33m)\u001b[0m \u001b[1;31m# We can access items from the tuple using a set of square brackets containing the index. Values accessed like this can be used in expressions like normal\u001b[0m\u001b[1;33m\u001b[0m\u001b[1;33m\u001b[0m\u001b[0m\n\u001b[0;32m      6\u001b[0m \u001b[0mprint\u001b[0m\u001b[1;33m(\u001b[0m\u001b[0mtuple2\u001b[0m\u001b[1;33m)\u001b[0m\u001b[1;33m\u001b[0m\u001b[1;33m\u001b[0m\u001b[0m\n\u001b[1;32m----> 7\u001b[1;33m \u001b[0mtuple\u001b[0m\u001b[1;33m[\u001b[0m\u001b[1;36m1\u001b[0m\u001b[1;33m]\u001b[0m \u001b[1;33m=\u001b[0m \u001b[1;36m10\u001b[0m \u001b[1;31m# We cannot change the value of an existing item within the tuple as tuples are immutable\u001b[0m\u001b[1;33m\u001b[0m\u001b[1;33m\u001b[0m\u001b[0m\n\u001b[0m",
      "\u001b[1;31mTypeError\u001b[0m: 'type' object does not support item assignment"
     ]
    }
   ],
   "source": [
    "tuple1 = (1, 4, 5)\n",
    "print(tuple1) # We can print the values within a tuple\n",
    "tuple2 = (1,) # To create a tuple with a single entry, we still need a comma after the only entry in the tuple.\n",
    "tuple3 = () # To create an empty tuple we can use a pair of parentheses with no content.\n",
    "print(tuple1[1] + 2) # We can access items from the tuple using a set of square brackets containing the index. Values accessed like this can be used in expressions like normal\n",
    "print(tuple2)\n",
    "tuple[1] = 10 # We cannot change the value of an existing item within the tuple as tuples are immutable"
   ]
  },
  {
   "cell_type": "markdown",
   "metadata": {},
   "source": [
    "We can create a tuple using tuple comprehension:"
   ]
  },
  {
   "cell_type": "code",
   "execution_count": 10,
   "metadata": {},
   "outputs": [
    {
     "name": "stdout",
     "output_type": "stream",
     "text": [
      "(0, 2, 4, 6, 8)\n"
     ]
    }
   ],
   "source": [
    "my_tuple = tuple(i for i in range(10) if i%2 ==0)\n",
    "print(my_tuple)"
   ]
  },
  {
   "attachments": {},
   "cell_type": "markdown",
   "metadata": {},
   "source": [
    "We can loop over tuples, and select a subset of values from a tuple using slicing, just like a list."
   ]
  },
  {
   "cell_type": "code",
   "execution_count": 11,
   "metadata": {},
   "outputs": [
    {
     "name": "stdout",
     "output_type": "stream",
     "text": [
      "0\n",
      "4\n"
     ]
    }
   ],
   "source": [
    "for x in my_tuple[0:4:2]:\n",
    "    print(x)"
   ]
  },
  {
   "cell_type": "markdown",
   "metadata": {},
   "source": [
    "We can also use tuples to assign to multiple variables at once."
   ]
  },
  {
   "cell_type": "code",
   "execution_count": 12,
   "metadata": {},
   "outputs": [
    {
     "name": "stdout",
     "output_type": "stream",
     "text": [
      "12\n",
      "30\n",
      "apples\n",
      "bananas\n"
     ]
    }
   ],
   "source": [
    "(a, b) = (10 + 2, 3 * 10) # We assignment o multiple variables at once using tuple assignment\n",
    "print(a)\n",
    "print(b)\n",
    "a, b = \"apples\", \"bananas\" # This also works without the parentheses\n",
    "print(a)\n",
    "print(b)"
   ]
  },
  {
   "cell_type": "markdown",
   "metadata": {},
   "source": [
    "## Sets\n",
    "\n",
    "Sets are unordered collections which hold unique values of hashable types. We can create a set with some initial values, or an empty set."
   ]
  },
  {
   "cell_type": "code",
   "execution_count": 13,
   "metadata": {},
   "outputs": [
    {
     "name": "stdout",
     "output_type": "stream",
     "text": [
      "{1, 2}\n",
      "set()\n"
     ]
    }
   ],
   "source": [
    "set1 = {1, 2} # Create a set with some initial values\n",
    "print(set1)\n",
    "set2 = set() # An empty pair of curly brackets would create an empty dictionary, so use this syntax to create an empty set\n",
    "print(set2) # An empty set is represented by \"set()\""
   ]
  },
  {
   "cell_type": "markdown",
   "metadata": {},
   "source": [
    "We can add values to sets, but there will only ever be one copy of each value in a set."
   ]
  },
  {
   "cell_type": "code",
   "execution_count": 14,
   "metadata": {},
   "outputs": [
    {
     "name": "stdout",
     "output_type": "stream",
     "text": [
      "{2}\n",
      "{2, 3, 4}\n",
      "{2, 3, 4}\n"
     ]
    }
   ],
   "source": [
    "set2.add(2) # We can add a single value using the add method\n",
    "print(set2)\n",
    "set2.update([3,4]) # We can use the update method to add multiple values at once\n",
    "print(set2)\n",
    "set2.add(3)\n",
    "print(set2)"
   ]
  },
  {
   "cell_type": "markdown",
   "metadata": {},
   "source": [
    "We can also merge multiple sets together:"
   ]
  },
  {
   "cell_type": "code",
   "execution_count": 15,
   "metadata": {},
   "outputs": [
    {
     "name": "stdout",
     "output_type": "stream",
     "text": [
      "{1, 2} {2, 3, 4} {3, 6}\n",
      "{1, 2} {2, 3, 4} {3, 6} {1, 2, 3, 4, 6}\n"
     ]
    }
   ],
   "source": [
    "set3 = {3, 6} # Create an extra set for us to use\n",
    "print(set1, set2, set3) # Print all the sets before we start\n",
    "set4 = set1.union(set2, set3) # The union method accepts one or more sets. It combines their values with the the set used to call the method (set1 in this case). This returns a new set but does not modify any of the original sets\n",
    "print(set1, set2, set3, set4)"
   ]
  },
  {
   "cell_type": "markdown",
   "metadata": {},
   "source": [
    "When we loop over a set, the order which values are returned is not guaranteed as sets are not ordered:"
   ]
  },
  {
   "cell_type": "code",
   "execution_count": 16,
   "metadata": {},
   "outputs": [
    {
     "name": "stdout",
     "output_type": "stream",
     "text": [
      "1\n",
      "2\n",
      "3\n",
      "4\n",
      "6\n"
     ]
    }
   ],
   "source": [
    "for x in set4:\n",
    "    print(x)"
   ]
  },
  {
   "cell_type": "markdown",
   "metadata": {},
   "source": [
    "We can also use set comprehension to produce a set. The syntax is the same as with a list comprehension, but inside a set of curly brackets."
   ]
  },
  {
   "cell_type": "code",
   "execution_count": 17,
   "metadata": {},
   "outputs": [
    {
     "name": "stdout",
     "output_type": "stream",
     "text": [
      "{16, 0, 4}\n"
     ]
    }
   ],
   "source": [
    "set5 = { i ** 2 for i in range(-5, 5) if i % 2 == 0} # Create a set with set comprehension. Note the values 4 and 16 are generated twice but only appear once in the final set.\n",
    "print(set5) # When printing the set, the order is not guaranteed - sets are unordered."
   ]
  }
 ],
 "metadata": {
  "kernelspec": {
   "display_name": "Python 3.9.13 64-bit (windows store)",
   "language": "python",
   "name": "python3"
  },
  "language_info": {
   "codemirror_mode": {
    "name": "ipython",
    "version": 3
   },
   "file_extension": ".py",
   "mimetype": "text/x-python",
   "name": "python",
   "nbconvert_exporter": "python",
   "pygments_lexer": "ipython3",
   "version": "3.9.13 (tags/v3.9.13:6de2ca5, May 17 2022, 16:36:42) [MSC v.1929 64 bit (AMD64)]"
  },
  "orig_nbformat": 4,
  "vscode": {
   "interpreter": {
    "hash": "5dbf766eb95023f9dddb799b5381b4ed6a9322e38632e8ac1570872c767b304b"
   }
  }
 },
 "nbformat": 4,
 "nbformat_minor": 2
}
