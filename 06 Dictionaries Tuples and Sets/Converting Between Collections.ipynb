{
 "cells": [
  {
   "attachments": {},
   "cell_type": "markdown",
   "metadata": {},
   "source": [
    "# Converting Between Collections\n",
    "\n",
    "You should now be familiar with tuples, dictionaries, tuples, and sets. Sometimes it's useful to be able to quickly and easily create one collection from another. Python supports this, generally by writing the name of the collection you want to create (such as ```list```) and following it with a set of parentheses containing the iterable object you want to take values from. This is normally a compact, easy to read, and computationally flexible way to populate collections.\n",
    "\n",
    "Let's create some sample collections to be used in this notebook. We'll also create a ```range```, as many collections can be created from any iterable object, including ranges."
   ]
  },
  {
   "cell_type": "code",
   "execution_count": 2,
   "metadata": {},
   "outputs": [],
   "source": [
    "my_list = [1, 2, 1]\n",
    "my_dictionary = {\"A\": 0, \"B\": 1, \"C\":0}\n",
    "my_tuple = (0, 0, 8)\n",
    "my_set = {0, 1, 2}\n",
    "my_range = range(2,5)"
   ]
  },
  {
   "attachments": {},
   "cell_type": "markdown",
   "metadata": {},
   "source": [
    "## Creating lists\n",
    "To create a list from an iterable, you can normally write the word ```list``` followed by a pair of parentheses containing the iterable."
   ]
  },
  {
   "cell_type": "code",
   "execution_count": 3,
   "metadata": {},
   "outputs": [
    {
     "name": "stdout",
     "output_type": "stream",
     "text": [
      "[0, 0, 8]\n",
      "['A', 'B', 'C']\n",
      "[0, 1, 0]\n",
      "[0, 1, 2]\n",
      "[2, 3, 4]\n"
     ]
    }
   ],
   "source": [
    "print(list(my_tuple))\n",
    "print(list(my_dictionary)) # Creating a list from a dictionary uses its keys\n",
    "print(list(my_dictionary.values())) # Can use the \"values\" methods to create a list from the values instead\n",
    "print(list(my_set)) # Remember that the order of items taken from the set could be in any order\n",
    "print(list(my_range))"
   ]
  },
  {
   "attachments": {},
   "cell_type": "markdown",
   "metadata": {},
   "source": [
    "## Creating Tuples\n",
    "To create a tuple from an iterable, you can normally write the word ```tuple``` followed by a pair of parentheses containing the iterable."
   ]
  },
  {
   "cell_type": "code",
   "execution_count": 3,
   "metadata": {},
   "outputs": [
    {
     "name": "stdout",
     "output_type": "stream",
     "text": [
      "(1, 2, 1)\n",
      "('A', 'B', 'C')\n",
      "(0, 1, 0)\n",
      "(0, 1, 2)\n",
      "(2, 3, 4)\n"
     ]
    }
   ],
   "source": [
    "print(tuple(my_list))\n",
    "print(tuple(my_dictionary)) # Creating a tuple from a dictionary uses its keys\n",
    "print(tuple(my_dictionary.values())) # Can use the \"values\" methods to create a tuple from the values instead\n",
    "print(tuple(my_set)) # Remember that the order of items taken from the set could be in any order\n",
    "print(tuple(my_range))"
   ]
  },
  {
   "attachments": {},
   "cell_type": "markdown",
   "metadata": {},
   "source": [
    "## Creating Sets\n",
    "To create a set from an iterable, you can normally write the word ```set``` followed by a pair of parentheses containing the iterable. Remember that the ordering of elements may not be preserved."
   ]
  },
  {
   "cell_type": "code",
   "execution_count": 4,
   "metadata": {},
   "outputs": [
    {
     "name": "stdout",
     "output_type": "stream",
     "text": [
      "{0, 8}\n",
      "{'C', 'A', 'B'}\n",
      "{0, 1}\n",
      "{0, 1, 2}\n",
      "{2, 3, 4}\n"
     ]
    }
   ],
   "source": [
    "print(set(my_tuple))\n",
    "print(set(my_dictionary)) # Creating a set from a dictionary uses its keys\n",
    "print(set(my_dictionary.values())) # Can use the \"values\" methods to create a set from the values instead\n",
    "print(set(my_set)) # Remember that the order of items taken from the set could be in any order\n",
    "print(set(my_range))"
   ]
  },
  {
   "attachments": {},
   "cell_type": "markdown",
   "metadata": {},
   "source": [
    "## Creating Dictionaries\n",
    "Creating dictionaries from iterables is a bit more complex as we need to provide both the keys and the values. Generally we can do this by writing ```dict(zip())``` with the inner parentheses containing the iterables for the keys and values, separated by a comma."
   ]
  },
  {
   "cell_type": "code",
   "execution_count": 5,
   "metadata": {},
   "outputs": [
    {
     "name": "stdout",
     "output_type": "stream",
     "text": [
      "{1: 0, 2: 1, 3: 0}\n",
      "{1: 1, 2: 0}\n",
      "{0: 2, 1: 3, 2: 4}\n",
      "{'A': 1, 'B': 2}\n",
      "{'A': 1, 'B': 2}\n"
     ]
    }
   ],
   "source": [
    "print(dict(zip([1, 2, 3], (0, 1, 0)))) # Using the list for keys and the tuple for values\n",
    "print(dict(zip([1, 1, 2], (0, 1, 0)))) # If the iterable providing the keys contains duplicate values, the later values will override the earlier values\n",
    "print(dict(zip({0, 1, 2}, range(2,5)))) # We can also convert from sets and ranges. Remember when using sets that the order of items is not guaranteed\n",
    "print(dict(zip([\"A\", \"B\", \"C\"], [1, 2]))) # If the two iterables don't contain the same number of values, the number of key-value pairs will be lower of the lengths of the two iterables\n",
    "print(dict(zip([\"A\", \"B\"], [1, 2, 3])))"
   ]
  }
 ],
 "metadata": {
  "kernelspec": {
   "display_name": "Python 3",
   "language": "python",
   "name": "python3"
  },
  "language_info": {
   "codemirror_mode": {
    "name": "ipython",
    "version": 3
   },
   "file_extension": ".py",
   "mimetype": "text/x-python",
   "name": "python",
   "nbconvert_exporter": "python",
   "pygments_lexer": "ipython3",
   "version": "3.11.4"
  },
  "orig_nbformat": 4,
  "vscode": {
   "interpreter": {
    "hash": "5dbf766eb95023f9dddb799b5381b4ed6a9322e38632e8ac1570872c767b304b"
   }
  }
 },
 "nbformat": 4,
 "nbformat_minor": 2
}
