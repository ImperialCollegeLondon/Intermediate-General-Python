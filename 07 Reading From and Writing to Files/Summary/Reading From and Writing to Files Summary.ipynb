{
 "cells": [
  {
   "cell_type": "markdown",
   "metadata": {},
   "source": [
    "# Reading From and Writing to Files\n",
    "\n",
    "## Opening Files\n",
    "\n",
    "Files can be opened using the ```open``` function. The result is a reference to the file, which can then be accessed or amended. The best way to open a file is within a ```while``` statement which makes the file available during the indented block which follows. If the code reaches the end of the block or an error is raised in the block, the file will automatically be closed."
   ]
  },
  {
   "cell_type": "code",
   "execution_count": 2,
   "metadata": {},
   "outputs": [
    {
     "name": "stdout",
     "output_type": "stream",
     "text": [
      "1 1\n",
      "2 4\n",
      "3 9\n"
     ]
    }
   ],
   "source": [
    "with open(\"input.dat\") as f: # This opens the file at the specified path and saves it to the variable f\n",
    "    # The file is automatically closed when the indented section ends or an exception is raised.\n",
    "    content = f.read() # The read method returns the entire contents of the file as a string\n",
    "\n",
    "print(content) # Note the \"\\n\" at the end of each line is still present, it's just formatted as a new line in the output"
   ]
  },
  {
   "cell_type": "markdown",
   "metadata": {},
   "source": [
    "If we don't specify a mode, the file will be opened in read mode. If we specify ```w``` as a second argument, the file will be opened in read mode. There are other modes as well."
   ]
  },
  {
   "cell_type": "markdown",
   "metadata": {},
   "source": [
    "## Reading from a File\n",
    "\n",
    "There are a few different things you can do to read from the file once it's open. One of the most useful methods is ```readlines```. This returns a list, where each item is the content of a single line of the input file. In the example below, you can see that each line ends in a ```\\n```, representing a new line character. From here you can use string processing techniques (such as ```strip``` and ```split```) to process the data in the list. Remember, this data will all be read as strings, so you may need to convert it to another type before using it. There are elegant and creative ways to process data read from a file, feel free to combine different techniques, methods and functions."
   ]
  },
  {
   "cell_type": "code",
   "execution_count": 6,
   "metadata": {},
   "outputs": [
    {
     "name": "stdout",
     "output_type": "stream",
     "text": [
      "['1 1\\n', '2 4\\n', '3 9']\n",
      "{1: 1, 2: 4, 3: 9}\n"
     ]
    }
   ],
   "source": [
    "with open(\"input.dat\") as f:\n",
    "    lines = f.readlines() # Readlines splits the lines into separate items in a list\n",
    "\n",
    "print(lines)\n",
    "\n",
    "# Here we use strip to remove the \"\\n\" from each line and split to separate the numbers into two elements\n",
    "# The \"int\" functions convert the strings into integers\n",
    "# We then use a dictioanry comprehension to create a dictionary of values\n",
    "squares = {int(line.strip().split(\" \")[0]): int(line.strip().split(\" \")[1]) for line in lines}\n",
    "print(squares)\n"
   ]
  },
  {
   "cell_type": "markdown",
   "metadata": {},
   "source": [
    "## Writing to Files\n",
    "\n",
    "When writing to files, we can use the ```write``` method to add to a file."
   ]
  },
  {
   "cell_type": "code",
   "execution_count": 7,
   "metadata": {},
   "outputs": [],
   "source": [
    "with open(\"output.dat\", \"w\") as f: #The \"w\" causes the file to be opened for writing\n",
    "    for i in range(1, 11):\n",
    "        f.write(\"{} {}\\n\".format(i, i ** 2)) # String formatting is particularly useful for constructing strings to be written to the file."
   ]
  },
  {
   "cell_type": "markdown",
   "metadata": {},
   "source": [
    "## File Paths and Directories\n",
    "We can include directories in file paths using the ```os.path.join``` method, which will construct a path appropriate for the operating system. We can use ```os.mkdir``` to make a directory, but need to deal with the ```FileExistsError``` which will be raised if the directory already exists."
   ]
  },
  {
   "cell_type": "code",
   "execution_count": 10,
   "metadata": {},
   "outputs": [],
   "source": [
    "import os\n",
    "\n",
    "try:\n",
    "    os.mkdir(\"output\") # This will create the directory if it doesn't exist or raise a FileExistsError if it does\n",
    "except FileExistsError: # Cath the exception if it's raised\n",
    "    pass # \"pass\" does nothing and tells Python to carry on\n",
    "\n",
    "path = os.path.join(\"output\", \"greeting.dat\") # Create the string representing the path\n",
    "\n",
    "with open(path, \"w\") as f:\n",
    "    f.write(\"Hello world!\")"
   ]
  }
 ],
 "metadata": {
  "kernelspec": {
   "display_name": "Python 3.9.13 64-bit (windows store)",
   "language": "python",
   "name": "python3"
  },
  "language_info": {
   "codemirror_mode": {
    "name": "ipython",
    "version": 3
   },
   "file_extension": ".py",
   "mimetype": "text/x-python",
   "name": "python",
   "nbconvert_exporter": "python",
   "pygments_lexer": "ipython3",
   "version": "3.9.13"
  },
  "orig_nbformat": 4,
  "vscode": {
   "interpreter": {
    "hash": "5dbf766eb95023f9dddb799b5381b4ed6a9322e38632e8ac1570872c767b304b"
   }
  }
 },
 "nbformat": 4,
 "nbformat_minor": 2
}
