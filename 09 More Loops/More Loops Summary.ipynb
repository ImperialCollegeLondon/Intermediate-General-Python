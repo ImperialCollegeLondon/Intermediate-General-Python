{
 "cells": [
  {
   "cell_type": "markdown",
   "metadata": {},
   "source": [
    "# More Loops Summary\n",
    "\n"
   ]
  },
  {
   "cell_type": "markdown",
   "metadata": {},
   "source": [
    "In this module, we looked at a number of Python features which allow us to use loops in more flexible and powerful ways."
   ]
  },
  {
   "cell_type": "markdown",
   "metadata": {},
   "source": [
    "## Using Multiple Loop Variables\n",
    "\n",
    "We can use multiple loop variables if the iterable object we're looping over contains values which themselves have several values within them."
   ]
  },
  {
   "cell_type": "code",
   "execution_count": 1,
   "metadata": {},
   "outputs": [
    {
     "name": "stdout",
     "output_type": "stream",
     "text": [
      "apple is pomme in French\n",
      "banana is banane in French\n",
      "pineapple is ananas in French\n"
     ]
    }
   ],
   "source": [
    "fruit_translations = [(\"apple\", \"pomme\"), (\"banana\", \"banane\"), (\"pineapple\", \"ananas\")] #Each entry in this list contains 2 values\n",
    "\n",
    "for english, french in fruit_translations: # When we loop over the list, we can use two loop variables\n",
    "    # The first loop variable receives the first value from the item of fruit_translations, the second receives the second\n",
    "    print (\"{} is {} in French\".format(english, french))"
   ]
  },
  {
   "cell_type": "markdown",
   "metadata": {},
   "source": [
    "### Zip\n",
    "We can create a zip object by writing the word ```zip``` and passing it a number of iterable objects that return the same number of values, such as a series of collections with the same number of items each. When we loop over a zip object we will get one value from each of the iterables referenced by the zip object."
   ]
  },
  {
   "cell_type": "code",
   "execution_count": 2,
   "metadata": {},
   "outputs": [
    {
     "name": "stdout",
     "output_type": "stream",
     "text": [
      "<zip object at 0x00000281E620AAC0>\n",
      "[('apple', 'pomme', 'apfel'), ('banana', 'banane', 'banane'), ('pineapple', 'ananas', 'ananas')]\n",
      "apple is pomme in French and apfel in German\n",
      "banana is banane in French and banane in German\n",
      "pineapple is ananas in French and ananas in German\n"
     ]
    }
   ],
   "source": [
    "english_fruit = [\"apple\", \"banana\", \"pineapple\"]\n",
    "french_fruit = [\"pomme\", \"banane\", \"ananas\"]\n",
    "german_fruit = [\"apfel\", \"banane\", \"ananas\"]\n",
    "\n",
    "print(zip(english_fruit, french_fruit, german_fruit)) # A zip object contains references to the objects that make it up\n",
    "print(list(zip(english_fruit, french_fruit, german_fruit))) # To see the data of these objects we can create a lsit from it\n",
    "\n",
    "for english, french, german in zip(english_fruit, french_fruit, german_fruit): # We can loop over the zip, with one loop variable taking its value from each of the iterables that the zip references\n",
    "    print (\"{} is {} in French and {} in German\".format(english, french, german))"
   ]
  },
  {
   "cell_type": "markdown",
   "metadata": {},
   "source": [
    "### Dictionaries\n",
    "\n",
    "We can loop over the keys and values of a dictionary at the same time by iterating over the value returned by the items method of the ```dict``` class."
   ]
  },
  {
   "cell_type": "code",
   "execution_count": 3,
   "metadata": {},
   "outputs": [
    {
     "name": "stdout",
     "output_type": "stream",
     "text": [
      "There are 2 apples\n",
      "There are 3 bananas\n",
      "There are 35 pineapple\n"
     ]
    }
   ],
   "source": [
    "fruit = {\"apples\": 2, \"bananas\": 3, \"pineapple\": 35}\n",
    "\n",
    "for fruit, number in fruit.items(): # When we iterate over the value returned by the items method, the first loop variable represents the key, the second represents the associated value.\n",
    "    print(\"There are {} {}\".format(number, fruit))"
   ]
  },
  {
   "cell_type": "markdown",
   "metadata": {},
   "source": [
    "### Enumeration\n",
    "\n",
    "We can create an ```enumerate``` object using the ```enumerate``` function and passing an iterable object. When we iterate over the enumerate object, we get two values. The first is a counter which begins at 0 and increases by 1 each time, the second is the value from the iterable object passed to ```enumerate```. This will work for any iterable, but is most useful for ordered collections whose values are indexed by integers, such as lists and tuples, as the first value will represent the index of the value returned from the iterable."
   ]
  },
  {
   "cell_type": "code",
   "execution_count": 4,
   "metadata": {},
   "outputs": [
    {
     "name": "stdout",
     "output_type": "stream",
     "text": [
      "<enumerate object at 0x00000281E5566980>\n",
      "[(0, 'apples'), (1, 'bananas'), (2, 'pineapple')]\n",
      "apples is number 0\n",
      "bananas is number 1\n",
      "pineapple is number 2\n"
     ]
    }
   ],
   "source": [
    "fruits = [\"apples\", \"bananas\", \"pineapple\"]\n",
    "\n",
    "print(enumerate(fruits)) # The enumerate object contains a reference to the list \"fruits\"\n",
    "print(list(enumerate(fruits))) # We can convert this into a list to preview the values which will be returned\n",
    "\n",
    "for index, fruit in enumerate(fruits): # \"index\" begins at 0 and increases by 1 each time, \"fruit\" is the value from \"fruits\" that has that index\n",
    "    print(\"{} is number {}\".format(fruit, index))"
   ]
  }
 ],
 "metadata": {
  "kernelspec": {
   "display_name": "Python 3.9.13 64-bit (microsoft store)",
   "language": "python",
   "name": "python3"
  },
  "language_info": {
   "codemirror_mode": {
    "name": "ipython",
    "version": 3
   },
   "file_extension": ".py",
   "mimetype": "text/x-python",
   "name": "python",
   "nbconvert_exporter": "python",
   "pygments_lexer": "ipython3",
   "version": "3.9.13"
  },
  "orig_nbformat": 4,
  "vscode": {
   "interpreter": {
    "hash": "5dbf766eb95023f9dddb799b5381b4ed6a9322e38632e8ac1570872c767b304b"
   }
  }
 },
 "nbformat": 4,
 "nbformat_minor": 2
}
