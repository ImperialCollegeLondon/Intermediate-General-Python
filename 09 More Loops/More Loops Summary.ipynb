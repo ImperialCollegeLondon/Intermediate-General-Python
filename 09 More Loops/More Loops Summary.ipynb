{
 "cells": [
  {
   "cell_type": "markdown",
   "metadata": {},
   "source": [
    "# More Loops Summary"
   ]
  },
  {
   "cell_type": "markdown",
   "metadata": {},
   "source": [
    "In this module, we looked at a number of Python features which allow us to use loops in more flexible and powerful ways."
   ]
  },
  {
   "cell_type": "markdown",
   "metadata": {},
   "source": [
    "## Loop Control\n",
    "\n",
    "### break\n",
    "\n",
    "If Python is within a loop and encounters the word ```break```, it will break out of the loop. Essentially the loop will be exited and the first un-indented line of code after the loop will be executed next. This is very useful for stopping a loop once it has served its purpose or when some condition has been reached."
   ]
  },
  {
   "cell_type": "code",
   "execution_count": 1,
   "metadata": {},
   "outputs": [
    {
     "name": "stdout",
     "output_type": "stream",
     "text": [
      "0\n",
      "1\n",
      "2\n",
      "3\n",
      "4\n",
      "5\n"
     ]
    }
   ],
   "source": [
    "for i in range(10):\n",
    "    if i > 5:\n",
    "        break\n",
    "    print(i)"
   ]
  },
  {
   "cell_type": "markdown",
   "metadata": {},
   "source": [
    "### else\n",
    "\n",
    "We can specify some code that should be executed if the loop finishes execution and no ```break``` statement was encountered. This is useful for dealing with cases where a condition is not met. This is done using the ```else``` keyword after a loop, which is followed by a colon and then an indented section of code to be executed."
   ]
  },
  {
   "cell_type": "code",
   "execution_count": 2,
   "metadata": {},
   "outputs": [
    {
     "name": "stdout",
     "output_type": "stream",
     "text": [
      "1\n",
      "There was no number in the strong!\n",
      "0\n"
     ]
    }
   ],
   "source": [
    "def return_first_number(a_string): # Let's write a function which returns the first numeral from a string. If no numbers are found, return 0 instead.\n",
    "    for char in a_string: # Examine each character from the string in turn\n",
    "        if char.isnumeric():\n",
    "            answer= char # If it's numeric, set the answer to 0\n",
    "            break # Break out of the loop as we've found the answer\n",
    "    else:\n",
    "        answer = 0 # No break statements were hit, meaning no numerals were found in the string, so the answer should be 0\n",
    "        print(\"There was no number in the strong!\") # Print a warning message\n",
    "\n",
    "    return(answer) # Return the answer\n",
    "\n",
    "print(return_first_number(\"abc123\")) # Try it with a string with numerals\n",
    "print(return_first_number(\"no_numbers\")) # Try it with a string without numerals"
   ]
  },
  {
   "cell_type": "markdown",
   "metadata": {},
   "source": [
    "### continue\n",
    "\n",
    "If a ```continue``` statement is encountered within a loop, the current iteration of the loop is immediately ended and the next iteration of the loop begins. This is useful when a condition is reached meaning we've accomplished what we want to with the current iteration of the loop, but we still need to execute other iterations of the loop."
   ]
  },
  {
   "cell_type": "code",
   "execution_count": 3,
   "metadata": {},
   "outputs": [
    {
     "name": "stdout",
     "output_type": "stream",
     "text": [
      "0\n",
      "1\n",
      "The last number was odd!\n",
      "2\n",
      "3\n",
      "The last number was odd!\n",
      "4\n",
      "5\n",
      "The last number was odd!\n",
      "6\n",
      "7\n",
      "The last number was odd!\n",
      "8\n",
      "9\n",
      "The last number was odd!\n"
     ]
    }
   ],
   "source": [
    "for x in range(10):\n",
    "    print(x)\n",
    "    if x % 2 == 0:\n",
    "        continue # The continue statement will be reaching for even numbers\n",
    "    print(\"The last number was odd!\") # This print statement will only be reached when x is odd"
   ]
  },
  {
   "cell_type": "markdown",
   "metadata": {},
   "source": [
    "## Using Multiple Loop Variables\n",
    "\n",
    "We can use multiple loop variables if the iterable object we're looping over contains values which themselves have several values within them."
   ]
  },
  {
   "cell_type": "code",
   "execution_count": 4,
   "metadata": {},
   "outputs": [
    {
     "name": "stdout",
     "output_type": "stream",
     "text": [
      "apple is pomme in French\n",
      "banana is banane in French\n",
      "pineapple is ananas in French\n"
     ]
    }
   ],
   "source": [
    "fruit_translations = [(\"apple\", \"pomme\"), (\"banana\", \"banane\"), (\"pineapple\", \"ananas\")] #Each entry in this list contains 2 values\n",
    "\n",
    "for english, french in fruit_translations: # When we loop over the list, we can use two loop variables\n",
    "    # The first loop variable receives the first value from the item of fruit_translations, the second receives the second\n",
    "    print (\"{} is {} in French\".format(english, french))"
   ]
  },
  {
   "cell_type": "markdown",
   "metadata": {},
   "source": [
    "### Zip\n",
    "We can create a zip object by writing the word ```zip``` and passing it a number of iterable objects that return the same number of values, such as a series of collections with the same number of items each. When we loop over a zip object we will get one value from each of the iterables referenced by the zip object."
   ]
  },
  {
   "cell_type": "code",
   "execution_count": 5,
   "metadata": {},
   "outputs": [
    {
     "name": "stdout",
     "output_type": "stream",
     "text": [
      "<zip object at 0x00000201EA30A5C0>\n",
      "[('apple', 'pomme', 'apfel'), ('banana', 'banane', 'banane'), ('pineapple', 'ananas', 'ananas')]\n",
      "apple is pomme in French and apfel in German\n",
      "banana is banane in French and banane in German\n",
      "pineapple is ananas in French and ananas in German\n"
     ]
    }
   ],
   "source": [
    "english_fruit = [\"apple\", \"banana\", \"pineapple\"]\n",
    "french_fruit = [\"pomme\", \"banane\", \"ananas\"]\n",
    "german_fruit = [\"apfel\", \"banane\", \"ananas\"]\n",
    "\n",
    "print(zip(english_fruit, french_fruit, german_fruit)) # A zip object contains references to the objects that make it up\n",
    "print(list(zip(english_fruit, french_fruit, german_fruit))) # To see the data of these objects we can create a list from it\n",
    "\n",
    "for english, french, german in zip(english_fruit, french_fruit, german_fruit): # We can loop over the zip, with one loop variable taking its value from each of the iterables that the zip references\n",
    "    print (\"{} is {} in French and {} in German\".format(english, french, german))"
   ]
  },
  {
   "cell_type": "markdown",
   "metadata": {},
   "source": [
    "### Looping over Keys and Values of Dictionaries\n",
    "\n",
    "We can loop over the keys and values of a dictionary at the same time by iterating over the value returned by the items method of the ```dict``` class."
   ]
  },
  {
   "cell_type": "code",
   "execution_count": 6,
   "metadata": {},
   "outputs": [
    {
     "name": "stdout",
     "output_type": "stream",
     "text": [
      "There are 2 apples\n",
      "There are 3 bananas\n",
      "There are 35 pineapple\n"
     ]
    }
   ],
   "source": [
    "fruit = {\"apples\": 2, \"bananas\": 3, \"pineapple\": 35}\n",
    "\n",
    "for fruit, number in fruit.items(): # When we iterate over the value returned by the items method, the first loop variable represents the key, the second represents the associated value.\n",
    "    print(\"There are {} {}\".format(number, fruit))"
   ]
  },
  {
   "cell_type": "markdown",
   "metadata": {},
   "source": [
    "### Enumeration\n",
    "\n",
    "We can create an ```enumerate``` object using the ```enumerate``` function and passing an iterable object. When we iterate over the enumerate object, we get two values. The first is a counter which begins at 0 and increases by 1 each time, the second is the value from the iterable object passed to ```enumerate```. This will work for any iterable, but is most useful for ordered collections whose values are indexed by integers, such as lists and tuples, as the first value will represent the index of the value returned from the iterable."
   ]
  },
  {
   "cell_type": "code",
   "execution_count": 7,
   "metadata": {},
   "outputs": [
    {
     "name": "stdout",
     "output_type": "stream",
     "text": [
      "<enumerate object at 0x00000201EA307FC0>\n",
      "[(0, 'apples'), (1, 'bananas'), (2, 'pineapple')]\n",
      "apples is number 0\n",
      "bananas is number 1\n",
      "pineapple is number 2\n"
     ]
    }
   ],
   "source": [
    "fruits = [\"apples\", \"bananas\", \"pineapple\"]\n",
    "\n",
    "print(enumerate(fruits)) # The enumerate object contains a reference to the list \"fruits\"\n",
    "print(list(enumerate(fruits))) # We can convert this into a list to preview the values which will be returned\n",
    "\n",
    "for index, fruit in enumerate(fruits): # \"index\" begins at 0 and increases by 1 each time, \"fruit\" is the value from \"fruits\" that has that index\n",
    "    print(\"{} is number {}\".format(fruit, index))"
   ]
  }
 ],
 "metadata": {
  "kernelspec": {
   "display_name": "Python 3.9.13 64-bit (microsoft store)",
   "language": "python",
   "name": "python3"
  },
  "language_info": {
   "codemirror_mode": {
    "name": "ipython",
    "version": 3
   },
   "file_extension": ".py",
   "mimetype": "text/x-python",
   "name": "python",
   "nbconvert_exporter": "python",
   "pygments_lexer": "ipython3",
   "version": "3.9.13"
  },
  "orig_nbformat": 4,
  "vscode": {
   "interpreter": {
    "hash": "5dbf766eb95023f9dddb799b5381b4ed6a9322e38632e8ac1570872c767b304b"
   }
  }
 },
 "nbformat": 4,
 "nbformat_minor": 2
}
