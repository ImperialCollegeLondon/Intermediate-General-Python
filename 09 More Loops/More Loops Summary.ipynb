{
 "cells": [
  {
   "cell_type": "markdown",
   "metadata": {},
   "source": [
    "# More Loops Summary\n",
    "\n"
   ]
  },
  {
   "cell_type": "code",
   "execution_count": null,
   "metadata": {},
   "outputs": [],
   "source": []
  },
  {
   "cell_type": "markdown",
   "metadata": {},
   "source": [
    "## Zip\n",
    "\n",
    "We can us "
   ]
  },
  {
   "cell_type": "code",
   "execution_count": 2,
   "metadata": {},
   "outputs": [
    {
     "name": "stdout",
     "output_type": "stream",
     "text": [
      "pineapple is ananas in French\n",
      "banana is banane in French\n",
      "apple is pomme in French\n"
     ]
    }
   ],
   "source": [
    "fruit_translations = [(\"apple\", \"pomme\"), (\"banana\", \"banane\"), (\"pineapple\", \"ananas\")]\n",
    "\n",
    "for english, french in fruit_translations:\n",
    "    print (\"{} is {} in French\".format(english, french))"
   ]
  },
  {
   "cell_type": "code",
   "execution_count": 6,
   "metadata": {},
   "outputs": [
    {
     "name": "stdout",
     "output_type": "stream",
     "text": [
      "[('apple', 'pomme', 'apfel'), ('banana', 'banane', 'banane'), ('pineapple', 'ananas', 'ananas')]\n",
      "apple is pomme in French and apfel in German\n",
      "banana is banane in French and banane in German\n",
      "pineapple is ananas in French and ananas in German\n"
     ]
    }
   ],
   "source": [
    "english_fruit = [\"apple\", \"banana\", \"pineapple\"]\n",
    "french_fruit = [\"pomme\", \"banane\", \"ananas\"]\n",
    "german_fruit = [\"apfel\", \"banane\", \"ananas\"]\n",
    "\n",
    "print(list(zip(english_fruit, french_fruit, german_fruit)))\n",
    "\n",
    "for english, french, german in zip(english_fruit, french_fruit, german_fruit):\n",
    "    print (\"{} is {} in French and {} in German\".format(english, french, german))"
   ]
  },
  {
   "cell_type": "markdown",
   "metadata": {},
   "source": [
    "## Dictionaries"
   ]
  },
  {
   "cell_type": "code",
   "execution_count": 9,
   "metadata": {},
   "outputs": [
    {
     "name": "stdout",
     "output_type": "stream",
     "text": [
      "dict_items([('apples', 1), ('bananas', 3), ('pineapple', 35)])\n",
      "There are 1 apples\n",
      "There are 3 bananas\n",
      "There are 35 pineapple\n"
     ]
    }
   ],
   "source": [
    "fruit = {\"apples\": 1, \"bananas\": 3, \"pineapple\": 35}\n",
    "\n",
    "for fruit, number in fruit.items():\n",
    "    print(\"There are {} {}\".format(number, fruit))"
   ]
  },
  {
   "cell_type": "markdown",
   "metadata": {},
   "source": [
    "## Enumeration"
   ]
  },
  {
   "cell_type": "code",
   "execution_count": 11,
   "metadata": {},
   "outputs": [
    {
     "name": "stdout",
     "output_type": "stream",
     "text": [
      "<enumerate object at 0x0000028405DC4840>\n",
      "apples is number 0\n",
      "bananas is number 1\n",
      "pineapple is number 2\n"
     ]
    }
   ],
   "source": [
    "fruits = [\"apples\", \"bananas\", \"pineapple\"]\n",
    "\n",
    "print(enumerate(fruits))\n",
    "\n",
    "for index, fruit in enumerate(fruits):\n",
    "    print(\"{} is number {}\".format(fruit, index))"
   ]
  },
  {
   "cell_type": "code",
   "execution_count": null,
   "metadata": {},
   "outputs": [],
   "source": []
  }
 ],
 "metadata": {
  "kernelspec": {
   "display_name": "Python 3.9.13 64-bit (microsoft store)",
   "language": "python",
   "name": "python3"
  },
  "language_info": {
   "codemirror_mode": {
    "name": "ipython",
    "version": 3
   },
   "file_extension": ".py",
   "mimetype": "text/x-python",
   "name": "python",
   "nbconvert_exporter": "python",
   "pygments_lexer": "ipython3",
   "version": "3.9.12"
  },
  "orig_nbformat": 4,
  "vscode": {
   "interpreter": {
    "hash": "dd6fae4ecc2ed85ff8734f02c49dd95eba72d17e09edb2ce20628e478f8e91de"
   }
  }
 },
 "nbformat": 4,
 "nbformat_minor": 2
}
