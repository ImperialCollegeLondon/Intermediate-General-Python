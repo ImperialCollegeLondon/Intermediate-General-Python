{
 "cells": [
  {
   "cell_type": "markdown",
   "id": "e7c9d09c",
   "metadata": {},
   "source": [
    "# Assertion Statements\n",
    "\n",
    "The word ```assert``` followed by an expression will cause Python to evaluate the expression. If it's ```True``` the code will execute silently and with no exception raised."
   ]
  },
  {
   "cell_type": "code",
   "execution_count": 1,
   "id": "742eb275",
   "metadata": {},
   "outputs": [],
   "source": [
    "assert True"
   ]
  },
  {
   "cell_type": "markdown",
   "id": "b566fc0c",
   "metadata": {},
   "source": [
    "If the expression which follows it is ```False```, an AssertionError will be raised."
   ]
  },
  {
   "cell_type": "code",
   "execution_count": 2,
   "id": "1c1b3550",
   "metadata": {},
   "outputs": [
    {
     "ename": "AssertionError",
     "evalue": "",
     "output_type": "error",
     "traceback": [
      "\u001b[1;31m---------------------------------------------------------------------------\u001b[0m",
      "\u001b[1;31mAssertionError\u001b[0m                            Traceback (most recent call last)",
      "\u001b[1;32m~\\AppData\\Local\\Temp/ipykernel_15844/2103537015.py\u001b[0m in \u001b[0;36m<module>\u001b[1;34m\u001b[0m\n\u001b[1;32m----> 1\u001b[1;33m \u001b[1;32massert\u001b[0m \u001b[1;32mFalse\u001b[0m\u001b[1;33m\u001b[0m\u001b[1;33m\u001b[0m\u001b[0m\n\u001b[0m",
      "\u001b[1;31mAssertionError\u001b[0m: "
     ]
    }
   ],
   "source": [
    "assert False"
   ]
  },
  {
   "cell_type": "markdown",
   "id": "98b02652",
   "metadata": {},
   "source": [
    "We can add a message which will be raised as part of the AssertionError, by writing a comma after the expression which is checked and then the message to be printed."
   ]
  },
  {
   "cell_type": "code",
   "execution_count": 3,
   "id": "eb56fe77",
   "metadata": {},
   "outputs": [
    {
     "ename": "AssertionError",
     "evalue": "Error Message",
     "output_type": "error",
     "traceback": [
      "\u001b[1;31m---------------------------------------------------------------------------\u001b[0m",
      "\u001b[1;31mAssertionError\u001b[0m                            Traceback (most recent call last)",
      "\u001b[1;32m~\\AppData\\Local\\Temp/ipykernel_15844/2690136076.py\u001b[0m in \u001b[0;36m<module>\u001b[1;34m\u001b[0m\n\u001b[1;32m----> 1\u001b[1;33m \u001b[1;32massert\u001b[0m \u001b[1;32mFalse\u001b[0m\u001b[1;33m,\u001b[0m \u001b[1;34m\"Error Message\"\u001b[0m\u001b[1;33m\u001b[0m\u001b[1;33m\u001b[0m\u001b[0m\n\u001b[0m",
      "\u001b[1;31mAssertionError\u001b[0m: Error Message"
     ]
    }
   ],
   "source": [
    "assert False, \"Error Message\""
   ]
  },
  {
   "cell_type": "markdown",
   "id": "87a08fee",
   "metadata": {},
   "source": [
    "We can make the expression we're checking more complicated, for example checking the value of the variable ```a```:"
   ]
  },
  {
   "cell_type": "code",
   "execution_count": 4,
   "id": "78205c69",
   "metadata": {},
   "outputs": [
    {
     "ename": "AssertionError",
     "evalue": "a should be positive",
     "output_type": "error",
     "traceback": [
      "\u001b[1;31m---------------------------------------------------------------------------\u001b[0m",
      "\u001b[1;31mAssertionError\u001b[0m                            Traceback (most recent call last)",
      "\u001b[1;32m~\\AppData\\Local\\Temp/ipykernel_15844/2709857266.py\u001b[0m in \u001b[0;36m<module>\u001b[1;34m\u001b[0m\n\u001b[0;32m      1\u001b[0m \u001b[0ma\u001b[0m \u001b[1;33m=\u001b[0m \u001b[1;33m-\u001b[0m\u001b[1;36m1\u001b[0m\u001b[1;33m\u001b[0m\u001b[1;33m\u001b[0m\u001b[0m\n\u001b[1;32m----> 2\u001b[1;33m \u001b[1;32massert\u001b[0m \u001b[0ma\u001b[0m \u001b[1;33m>=\u001b[0m \u001b[1;36m0\u001b[0m\u001b[1;33m,\u001b[0m \u001b[1;34m\"a should be positive\"\u001b[0m\u001b[1;33m\u001b[0m\u001b[1;33m\u001b[0m\u001b[0m\n\u001b[0m",
      "\u001b[1;31mAssertionError\u001b[0m: a should be positive"
     ]
    }
   ],
   "source": [
    "a = -1\n",
    "assert a >= 0, \"a should be positive\""
   ]
  }
 ],
 "metadata": {
  "kernelspec": {
   "display_name": "Python 3 (ipykernel)",
   "language": "python",
   "name": "python3"
  },
  "language_info": {
   "codemirror_mode": {
    "name": "ipython",
    "version": 3
   },
   "file_extension": ".py",
   "mimetype": "text/x-python",
   "name": "python",
   "nbconvert_exporter": "python",
   "pygments_lexer": "ipython3",
   "version": "3.8.8"
  }
 },
 "nbformat": 4,
 "nbformat_minor": 5
}
